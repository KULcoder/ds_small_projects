{
 "cells": [
  {
   "cell_type": "code",
   "execution_count": 1,
   "id": "347110b2",
   "metadata": {},
   "outputs": [
    {
     "name": "stderr",
     "output_type": "stream",
     "text": [
      "Intel(R) Extension for Scikit-learn* enabled (https://github.com/intel/scikit-learn-intelex)\n"
     ]
    }
   ],
   "source": [
    "from sklearnex import patch_sklearn\n",
    "patch_sklearn()"
   ]
  },
  {
   "cell_type": "code",
   "execution_count": 2,
   "id": "c80cac32",
   "metadata": {},
   "outputs": [],
   "source": [
    "import pandas as pd\n",
    "import numpy as np"
   ]
  },
  {
   "cell_type": "markdown",
   "id": "4c650d4a",
   "metadata": {},
   "source": [
    "# Simple Notation for Mathmatics in Python\n",
    "## Linear Algebra\n",
    "### Vector"
   ]
  },
  {
   "cell_type": "code",
   "execution_count": 4,
   "id": "8d8545cb",
   "metadata": {},
   "outputs": [],
   "source": [
    "# represent vector and use them as our examples\n",
    "u = np.array([2, 5])\n",
    "v = np.array([3, 1])"
   ]
  },
  {
   "cell_type": "code",
   "execution_count": 5,
   "id": "a75a7abc",
   "metadata": {},
   "outputs": [
    {
     "data": {
      "text/plain": [
       "5.385164807134504"
      ]
     },
     "execution_count": 5,
     "metadata": {},
     "output_type": "execute_result"
    }
   ],
   "source": [
    "# norm: the measure of the length of one vector\n",
    "import numpy.linalg as LA\n",
    "LA.norm(u)"
   ]
  },
  {
   "cell_type": "code",
   "execution_count": 8,
   "id": "5422dd97",
   "metadata": {},
   "outputs": [
    {
     "data": {
      "text/plain": [
       "array([5, 6])"
      ]
     },
     "execution_count": 8,
     "metadata": {},
     "output_type": "execute_result"
    }
   ],
   "source": [
    "# addition\n",
    "u + v"
   ]
  },
  {
   "cell_type": "code",
   "execution_count": 7,
   "id": "e470453e",
   "metadata": {},
   "outputs": [
    {
     "data": {
      "text/plain": [
       "array([3. , 7.5])"
      ]
     },
     "execution_count": 7,
     "metadata": {},
     "output_type": "execute_result"
    }
   ],
   "source": [
    "# multiplication by a scalar\n",
    "1.5 * u"
   ]
  },
  {
   "cell_type": "code",
   "execution_count": 9,
   "id": "7ebc04c9",
   "metadata": {},
   "outputs": [
    {
     "data": {
      "text/plain": [
       "array([0.9486833 , 0.31622777])"
      ]
     },
     "execution_count": 9,
     "metadata": {},
     "output_type": "execute_result"
    }
   ],
   "source": [
    "# calculate the normalized vector (a vector with unit length)\n",
    "v / LA.norm(v)"
   ]
  },
  {
   "cell_type": "code",
   "execution_count": 10,
   "id": "22d465dd",
   "metadata": {},
   "outputs": [
    {
     "data": {
      "text/plain": [
       "11"
      ]
     },
     "execution_count": 10,
     "metadata": {},
     "output_type": "execute_result"
    }
   ],
   "source": [
    "# dot product\n",
    "np.dot(u, v)"
   ]
  },
  {
   "cell_type": "code",
   "execution_count": 12,
   "id": "dc39c872",
   "metadata": {},
   "outputs": [
    {
     "name": "stdout",
     "output_type": "stream",
     "text": [
      "Angle = 0.8685393952858895 radians\n",
      "      = 49.76364169072618 degrees\n"
     ]
    }
   ],
   "source": [
    "# calculating the angle between vectors (by using the low of cosine)\n",
    "def vector_angle(u, v):\n",
    "    # return radian\n",
    "    cos_theta = u.dot(v) / LA.norm(u) / LA.norm(v)\n",
    "    return np.arccos(np.clip(cos_theta, -1, 1))\n",
    "\n",
    "theta = vector_angle(u, v)\n",
    "print(\"Angle =\", theta, \"radians\")\n",
    "print(\"      =\", theta * 180 / np.pi, \"degrees\")"
   ]
  },
  {
   "cell_type": "code",
   "execution_count": 14,
   "id": "1eedc777",
   "metadata": {
    "scrolled": true
   },
   "outputs": [
    {
     "data": {
      "text/plain": [
       "array([0.75862069, 1.89655172])"
      ]
     },
     "execution_count": 14,
     "metadata": {},
     "output_type": "execute_result"
    }
   ],
   "source": [
    "# projecting \n",
    "u_normalized = u / LA.norm(u)\n",
    "proj = v.dot(u_normalized) * u_normalized\n",
    "proj"
   ]
  },
  {
   "cell_type": "markdown",
   "id": "d01810b8",
   "metadata": {},
   "source": [
    "### Metrics"
   ]
  },
  {
   "cell_type": "code",
   "execution_count": 21,
   "id": "1f7ba31e",
   "metadata": {},
   "outputs": [],
   "source": [
    "# represent metrics\n",
    "A = np.array([\n",
    "    [10,20,30],\n",
    "    [40,50,60]\n",
    "])\n",
    "B = np.array([[1,2,3], [4,5,6]])"
   ]
  },
  {
   "cell_type": "code",
   "execution_count": 16,
   "id": "e47dcebf",
   "metadata": {},
   "outputs": [
    {
     "data": {
      "text/plain": [
       "((2, 3), 6)"
      ]
     },
     "execution_count": 16,
     "metadata": {},
     "output_type": "execute_result"
    }
   ],
   "source": [
    "# shape\n",
    "A.shape, A.size"
   ]
  },
  {
   "cell_type": "code",
   "execution_count": 18,
   "id": "02e0d1f8",
   "metadata": {},
   "outputs": [
    {
     "data": {
      "text/plain": [
       "array([40, 50, 60])"
      ]
     },
     "execution_count": 18,
     "metadata": {},
     "output_type": "execute_result"
    }
   ],
   "source": [
    "# Element Indexing\n",
    "A[1, 2] # 2nd row, 3rd, column\n",
    "A[1, :] # 2nd, row vector (as a 1D array)\n",
    "# see python indexing methods"
   ]
  },
  {
   "cell_type": "code",
   "execution_count": 19,
   "id": "c4738148",
   "metadata": {},
   "outputs": [
    {
     "data": {
      "text/plain": [
       "array([[1., 0., 0.],\n",
       "       [0., 1., 0.],\n",
       "       [0., 0., 1.]])"
      ]
     },
     "execution_count": 19,
     "metadata": {},
     "output_type": "execute_result"
    }
   ],
   "source": [
    "# construct special matrics\n",
    "np.diag([4, 5, 6]) # construct a diagonal matrix\n",
    "np.eye(3) # create a 3 * 3 identity matrix"
   ]
  },
  {
   "cell_type": "code",
   "execution_count": 22,
   "id": "fc5c02f6",
   "metadata": {},
   "outputs": [
    {
     "data": {
      "text/plain": [
       "array([[11, 22, 33],\n",
       "       [44, 55, 66]])"
      ]
     },
     "execution_count": 22,
     "metadata": {},
     "output_type": "execute_result"
    }
   ],
   "source": [
    "# Addition\n",
    "A + B"
   ]
  },
  {
   "cell_type": "code",
   "execution_count": 23,
   "id": "ca490e29",
   "metadata": {},
   "outputs": [
    {
     "data": {
      "text/plain": [
       "array([[ 20,  40,  60],\n",
       "       [ 80, 100, 120]])"
      ]
     },
     "execution_count": 23,
     "metadata": {},
     "output_type": "execute_result"
    }
   ],
   "source": [
    "# Scalar Multiplication\n",
    "2 * A"
   ]
  },
  {
   "cell_type": "code",
   "execution_count": 26,
   "id": "1ac54ccf",
   "metadata": {},
   "outputs": [
    {
     "data": {
      "text/plain": [
       "array([[ 930, 1160, 1320, 1560],\n",
       "       [2010, 2510, 2910, 3450]])"
      ]
     },
     "execution_count": 26,
     "metadata": {},
     "output_type": "execute_result"
    }
   ],
   "source": [
    "# matrics multiplication\n",
    "# way 1: by using dot product\n",
    "D = np.array([\n",
    "    [2, 3, 5, 7],\n",
    "    [11, 13, 17, 19],\n",
    "    [23, 29, 31, 37]\n",
    "])\n",
    "E = A.dot(D)\n",
    "E"
   ]
  },
  {
   "cell_type": "code",
   "execution_count": 27,
   "id": "648da8e0",
   "metadata": {},
   "outputs": [
    {
     "data": {
      "text/plain": [
       "array([[ 930, 1160, 1320, 1560],\n",
       "       [2010, 2510, 2910, 3450]])"
      ]
     },
     "execution_count": 27,
     "metadata": {},
     "output_type": "execute_result"
    }
   ],
   "source": [
    "# way 2: by @ operater\n",
    "A @ D "
   ]
  },
  {
   "cell_type": "code",
   "execution_count": 28,
   "id": "ee567007",
   "metadata": {},
   "outputs": [
    {
     "data": {
      "text/plain": [
       "array([[10, 40],\n",
       "       [20, 50],\n",
       "       [30, 60]])"
      ]
     },
     "execution_count": 28,
     "metadata": {},
     "output_type": "execute_result"
    }
   ],
   "source": [
    "# matrix transpose\n",
    "A.T"
   ]
  },
  {
   "cell_type": "code",
   "execution_count": 29,
   "id": "af1d76dc",
   "metadata": {},
   "outputs": [
    {
     "data": {
      "text/plain": [
       "array([[ 930, 2010],\n",
       "       [1160, 2510],\n",
       "       [1320, 2910],\n",
       "       [1560, 3450]])"
      ]
     },
     "execution_count": 29,
     "metadata": {},
     "output_type": "execute_result"
    }
   ],
   "source": [
    "(A @ D).T"
   ]
  },
  {
   "cell_type": "code",
   "execution_count": 30,
   "id": "1607c06f",
   "metadata": {},
   "outputs": [
    {
     "data": {
      "text/plain": [
       "array([[ 930, 2010],\n",
       "       [1160, 2510],\n",
       "       [1320, 2910],\n",
       "       [1560, 3450]])"
      ]
     },
     "execution_count": 30,
     "metadata": {},
     "output_type": "execute_result"
    }
   ],
   "source": [
    "(D.T @ A.T)"
   ]
  },
  {
   "cell_type": "code",
   "execution_count": 39,
   "id": "a5d166cb",
   "metadata": {},
   "outputs": [
    {
     "data": {
      "text/plain": [
       "array([[ 1. , -1.5],\n",
       "       [ 0. ,  1. ]])"
      ]
     },
     "execution_count": 39,
     "metadata": {},
     "output_type": "execute_result"
    }
   ],
   "source": [
    "# Matrix Inverse\n",
    "F = np.array([\n",
    "        [1, 1.5],\n",
    "        [0, 1]\n",
    "    ])\n",
    "F_inv = LA.inv(F)\n",
    "F_inv"
   ]
  },
  {
   "cell_type": "code",
   "execution_count": 41,
   "id": "73a08d4f",
   "metadata": {},
   "outputs": [
    {
     "data": {
      "text/plain": [
       "27.0"
      ]
     },
     "execution_count": 41,
     "metadata": {},
     "output_type": "execute_result"
    }
   ],
   "source": [
    "# Determinant\n",
    "M = np.array([\n",
    "    [1, 2, 3],\n",
    "    [4, 5, 6],\n",
    "    [7, 8, 0]\n",
    "])\n",
    "LA.det(M)"
   ]
  },
  {
   "cell_type": "code",
   "execution_count": 42,
   "id": "94d473fe",
   "metadata": {},
   "outputs": [],
   "source": [
    "# Eigenvalue & Eigenvectors, trace... can be put on later"
   ]
  },
  {
   "cell_type": "markdown",
   "id": "9fe4780e",
   "metadata": {},
   "source": [
    "# Linear Model"
   ]
  },
  {
   "cell_type": "markdown",
   "id": "20be7108",
   "metadata": {},
   "source": [
    "## Solve Linear Model by Normal Equation"
   ]
  },
  {
   "cell_type": "code",
   "execution_count": 44,
   "id": "9fda845a",
   "metadata": {},
   "outputs": [],
   "source": [
    "# linear-looking data \n",
    "X = 2 * np.random.rand(100, 1)\n",
    "y = 4 + 3 * X + np.random.randn(100, 1)"
   ]
  },
  {
   "cell_type": "code",
   "execution_count": 45,
   "id": "ee6631f5",
   "metadata": {},
   "outputs": [],
   "source": [
    "# perfrom the normal equation calculation\n",
    "X_b = np.c_[np.ones((100, 1)), X]\n",
    "theta_best = np.linalg.inv(X_b.T.dot(X_b)).dot(X_b.T).dot(y)"
   ]
  },
  {
   "cell_type": "code",
   "execution_count": 46,
   "id": "1c9a01bc",
   "metadata": {},
   "outputs": [
    {
     "data": {
      "text/plain": [
       "array([[3.89191348],\n",
       "       [3.0119644 ]])"
      ]
     },
     "execution_count": 46,
     "metadata": {},
     "output_type": "execute_result"
    }
   ],
   "source": [
    "# best parameter\n",
    "theta_best"
   ]
  },
  {
   "cell_type": "code",
   "execution_count": 47,
   "id": "39831bb4",
   "metadata": {},
   "outputs": [
    {
     "data": {
      "text/plain": [
       "array([[3.89191348],\n",
       "       [9.91584229]])"
      ]
     },
     "execution_count": 47,
     "metadata": {},
     "output_type": "execute_result"
    }
   ],
   "source": [
    "# predict with the parameter\n",
    "X_new = np.array([[0], [2]])\n",
    "X_new_b = np.c_[np.ones((2,1)), X_new]\n",
    "y_predict = X_new_b.dot(theta_best)\n",
    "y_predict"
   ]
  },
  {
   "cell_type": "code",
   "execution_count": 48,
   "id": "f7212559",
   "metadata": {},
   "outputs": [],
   "source": [
    "# by sklearn and by scipy method is ignored here for simplicity"
   ]
  },
  {
   "cell_type": "markdown",
   "id": "c1c2a7bf",
   "metadata": {},
   "source": [
    "## Gradient Descent\n",
    "How to deal with a very larget dataset? (large amount of features or too many training instances to fit in memory)\n",
    "### Batch Gradient Descent\n",
    "This is not going to be very fast: it uses every data to calculate derivatives over parameters and move on that direction."
   ]
  },
  {
   "cell_type": "code",
   "execution_count": 53,
   "id": "f43da334",
   "metadata": {},
   "outputs": [],
   "source": [
    "# try to prove we can find the same parameter\n",
    "eta = 0.1\n",
    "n_iterations = 1000\n",
    "m = 100\n",
    "\n",
    "theta = np.random.randn(2,1) # random initialization: normal distribution of 2 numbers around 1 with std = 1 \n",
    "\n",
    "for iteration in range(n_iterations):\n",
    "    gradients = 2/m * X_b.T.dot(X_b.dot(theta) - y)\n",
    "    theta = theta - eta * gradients"
   ]
  },
  {
   "cell_type": "code",
   "execution_count": 54,
   "id": "b6e1d53c",
   "metadata": {},
   "outputs": [
    {
     "data": {
      "text/plain": [
       "array([[3.89191348],\n",
       "       [3.0119644 ]])"
      ]
     },
     "execution_count": 54,
     "metadata": {},
     "output_type": "execute_result"
    }
   ],
   "source": [
    "theta"
   ]
  },
  {
   "cell_type": "markdown",
   "id": "ab4e7d98",
   "metadata": {},
   "source": [
    "### Stochastic Gradient Descent"
   ]
  },
  {
   "cell_type": "code",
   "execution_count": 57,
   "id": "de44f8a0",
   "metadata": {},
   "outputs": [],
   "source": [
    "# application, details are on the notes: a fast random way of calculating gradient\n",
    "n_epochs = 50\n",
    "t0, t1 = 5, 50 # learning schedule hyperparameters\n",
    "\n",
    "def learning_schedule(t):\n",
    "    return t0 / (t + t1)\n",
    "\n",
    "theta = np.random.randn(2,1) # random initialization\n",
    "\n",
    "for epoch in range(n_epochs):\n",
    "    for i in range(m):\n",
    "        random_index = np.random.randint(m)\n",
    "        xi = X_b[random_index:random_index+1]\n",
    "        yi = y[random_index:random_index+1]\n",
    "        gradients = 2 * xi.T.dot(xi.dot(theta) - yi)\n",
    "        eta = learning_schedule(epoch * m + i)\n",
    "        theta = theta - eta * gradients"
   ]
  },
  {
   "cell_type": "code",
   "execution_count": 58,
   "id": "e404bb86",
   "metadata": {},
   "outputs": [
    {
     "data": {
      "text/plain": [
       "array([[3.91139806],\n",
       "       [3.01778664]])"
      ]
     },
     "execution_count": 58,
     "metadata": {},
     "output_type": "execute_result"
    }
   ],
   "source": [
    "theta"
   ]
  },
  {
   "cell_type": "code",
   "execution_count": 60,
   "id": "0b6dd384",
   "metadata": {},
   "outputs": [
    {
     "data": {
      "text/plain": [
       "SGDRegressor(eta0=0.1, penalty=None)"
      ]
     },
     "execution_count": 60,
     "metadata": {},
     "output_type": "execute_result"
    }
   ],
   "source": [
    "# sklearn do have a SGD model installed\n",
    "from sklearn.linear_model import SGDRegressor\n",
    "sgd_reg = SGDRegressor(max_iter=1000, tol=1e-3, penalty=None, eta0=0.1)\n",
    "sgd_reg.fit(X, y.ravel())"
   ]
  },
  {
   "cell_type": "code",
   "execution_count": 61,
   "id": "8f83175b",
   "metadata": {},
   "outputs": [
    {
     "data": {
      "text/plain": [
       "(array([3.89216208]), array([3.0538402]))"
      ]
     },
     "execution_count": 61,
     "metadata": {},
     "output_type": "execute_result"
    }
   ],
   "source": [
    "sgd_reg.intercept_, sgd_reg.coef_"
   ]
  },
  {
   "cell_type": "code",
   "execution_count": null,
   "id": "aacce029",
   "metadata": {},
   "outputs": [],
   "source": []
  }
 ],
 "metadata": {
  "kernelspec": {
   "display_name": "Python 3 (ipykernel)",
   "language": "python",
   "name": "python3"
  },
  "language_info": {
   "codemirror_mode": {
    "name": "ipython",
    "version": 3
   },
   "file_extension": ".py",
   "mimetype": "text/x-python",
   "name": "python",
   "nbconvert_exporter": "python",
   "pygments_lexer": "ipython3",
   "version": "3.9.10"
  }
 },
 "nbformat": 4,
 "nbformat_minor": 5
}
